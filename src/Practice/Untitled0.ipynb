{
 "metadata": {
  "name": "",
  "signature": "sha256:9e5cb7d5c2d044524cceaad0d9ba5f149ca2ec174ae3dcedc67d41aeed4b1c4f"
 },
 "nbformat": 3,
 "nbformat_minor": 0,
 "worksheets": []
}