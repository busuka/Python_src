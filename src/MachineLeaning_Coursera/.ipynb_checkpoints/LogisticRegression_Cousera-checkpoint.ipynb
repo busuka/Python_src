{
 "cells": [
  {
   "cell_type": "markdown",
   "metadata": {},
   "source": [
    "# Ex2.Logistic回帰の実装"
   ]
  },
  {
   "cell_type": "code",
   "execution_count": 8,
   "metadata": {
    "collapsed": false
   },
   "outputs": [],
   "source": [
    "import os\n",
    "import numpy as np\n",
    "import matplotlib.pyplot as plt\n",
    "import seaborn\n",
    "import scipy\n",
    "%matplotlib inline"
   ]
  },
  {
   "cell_type": "markdown",
   "metadata": {},
   "source": [
    "## データ入力"
   ]
  },
  {
   "cell_type": "code",
   "execution_count": 9,
   "metadata": {
    "collapsed": false
   },
   "outputs": [],
   "source": [
    "def data_input():\n",
    "    data = np.loadtxt(os.path.expanduser('~/Python_src/src/MachineLeaning_Coursera/Cousera/ml_data/mlclass-ex2/ex2data1.txt'),delimiter=',')\n",
    "    X0 = data[:,0]\n",
    "    X1 = data[:,1]\n",
    "    Y = data[:,2]\n",
    "    print(\"InputData_Dimension :\" ,data.shape)\n",
    "    print(\"InputData5行表示\" ,data[1:5,:])\n",
    "    return(X0,X1,Y,data)"
   ]
  },
  {
   "cell_type": "markdown",
   "metadata": {},
   "source": [
    "## 前処理"
   ]
  },
  {
   "cell_type": "code",
   "execution_count": 10,
   "metadata": {
    "collapsed": false
   },
   "outputs": [
    {
     "name": "stdout",
     "output_type": "stream",
     "text": [
      "InputData_Dimension : (100, 3)\n",
      "InputData5行表示 [[ 30.28671077  43.89499752   0.        ]\n",
      " [ 35.84740877  72.90219803   0.        ]\n",
      " [ 60.18259939  86.3085521    1.        ]\n",
      " [ 79.03273605  75.34437644   1.        ]]\n"
     ]
    },
    {
     "data": {
      "text/plain": [
       "'\\n#簡単なデータの可視化\\naxes = None\\nif axes == None:\\n    axes = plt.gca() #現在の図を取得する\\n\\naxes.scatter(data[pos][:,0], data[pos][:,1], marker=\\'+\\', c=\\'k\\', s=60, linewidth=2)\\naxes.scatter(data[neg][:,0], data[neg][:,1], marker=\\'*\\',c=\\'y\\', s=60)\\n\\nplt.xlabel(\"Exam1\")\\nplt.ylabel(\"Exam2\")\\n\\nplt.title(\"Score Plot Exam1 and Exam2 \")\\n'"
      ]
     },
     "execution_count": 10,
     "metadata": {},
     "output_type": "execute_result"
    }
   ],
   "source": [
    "    Exam1 , Exam2 , Label , data= data_input()\n",
    "\n",
    "    #100次元ベクトル を 100*1 の行列にする\n",
    "    Exam1 = Exam1.reshape(len(Exam1),1)\n",
    "    Exam2 = Exam2.reshape(len(Exam2),1)\n",
    "    Label = Label.reshape(len(Label),1)\n",
    "\n",
    "\n",
    "    #合格(Label = 1 ) と不合格(Label = 0 ) に分ける\n",
    "    #Neg = data[:,2] == 0\n",
    "    #Pos = data[:,2] == 1\n",
    "    #print(Neg[:4])\n",
    "    #print(Pos[:4])\n",
    "\n",
    "\n",
    "\n",
    "    '''\n",
    "    #簡単なデータの可視化\n",
    "    axes = None\n",
    "    if axes == None:\n",
    "        axes = plt.gca() #現在の図を取得する\n",
    "\n",
    "    axes.scatter(data[pos][:,0], data[pos][:,1], marker='+', c='k', s=60, linewidth=2)\n",
    "    axes.scatter(data[neg][:,0], data[neg][:,1], marker='*',c='y', s=60)\n",
    "\n",
    "    plt.xlabel(\"Exam1\")\n",
    "    plt.ylabel(\"Exam2\")\n",
    "\n",
    "    plt.title(\"Score Plot Exam1 and Exam2 \")\n",
    "    '''\n"
   ]
  },
  {
   "cell_type": "markdown",
   "metadata": {
    "collapsed": false
   },
   "source": [
    "### Logistic regression hypothesis\n",
    "#### $$ h_{\\theta}(x) = g(\\theta^{T}x)$$\n",
    "#### $$ g(z)=\\frac{1}{1+e^{−z}} $$"
   ]
  },
  {
   "cell_type": "code",
   "execution_count": 11,
   "metadata": {
    "collapsed": true
   },
   "outputs": [],
   "source": [
    "def Hypothesis(theta,X):\n",
    "     return (sigmoid(X.dot(theta)))"
   ]
  },
  {
   "cell_type": "code",
   "execution_count": 12,
   "metadata": {
    "collapsed": true
   },
   "outputs": [],
   "source": [
    "def sigmoid(z):\n",
    "    return  (1 / (1 + np.exp(-z)))"
   ]
  },
  {
   "cell_type": "markdown",
   "metadata": {},
   "source": [
    "#### Cost Function\n",
    "#### $$ J(\\theta) = \\frac{1}{m}\\sum_{i=1}^{m}\\big[-y^{(i)}\\, log\\,( h_\\theta\\,(x^{(i)}))-(1-y^{(i)})\\,log\\,(1-h_\\theta(x^{(i)}))\\big]$$\n",
    "#### Vectorized Cost Function\n",
    "#### $$ J(\\theta) = \\frac{1}{m}\\big((\\,log\\,(g(X\\theta))^Ty+(\\,log\\,(1-g(X\\theta))^T(1-y)\\big)$$"
   ]
  },
  {
   "cell_type": "code",
   "execution_count": 13,
   "metadata": {
    "collapsed": true
   },
   "outputs": [],
   "source": [
    "def CostFunction(theta,x,y):\n",
    "    m = len(x)\n",
    "    h = sigmoid(x.dot(theta))\n",
    "    j = 1 / m * ((np.log(h)).T.dot(y) + (np.log(1-h)).T.dot(1-y))\n",
    "    return j"
   ]
  },
  {
   "cell_type": "markdown",
   "metadata": {},
   "source": [
    "#### Partial derivative\n",
    "\n",
    "#### $$ \\frac{\\delta J(\\theta)}{\\delta\\theta_{j}} = \\frac{1}{m}\\sum_{i=1}^{m} ( h_\\theta (x^{(i)})-y^{(i)})x^{(i)}_{j} $$ \n",
    "#### Vectorized\n",
    "#### $$ \\frac{\\delta J(\\theta)}{\\delta\\theta_{j}} = \\frac{1}{m} X^T(g(X\\theta)-y)$$\n"
   ]
  },
  {
   "cell_type": "code",
   "execution_count": 14,
   "metadata": {
    "collapsed": true
   },
   "outputs": [],
   "source": [
    "def GradientDescent(theta,x,y):\n",
    "    m = len(x)\n",
    "    h = Hypothesis(theta,x)\n",
    "    g = 1 / m * x.T.dot(h-y)\n",
    "    return g"
   ]
  },
  {
   "cell_type": "code",
   "execution_count": 15,
   "metadata": {
    "collapsed": false,
    "scrolled": true
   },
   "outputs": [
    {
     "name": "stdout",
     "output_type": "stream",
     "text": [
      "TrainX : \n",
      "[[  1.          34.62365962  78.02469282]\n",
      " [  1.          30.28671077  43.89499752]\n",
      " [  1.          35.84740877  72.90219803]\n",
      " [  1.          60.18259939  86.3085521 ]\n",
      " [  1.          79.03273605  75.34437644]]\n",
      " X-Dimension: (100, 3)\n",
      "TrainY : [[ 0.  0.  0.  1.  1.]]\n",
      " Y-Dimension: (100, 1)\n",
      "決定境界 :  0.5\n",
      "初期Theta [[ 0.  0.  0.]]\n",
      "仮説から出力される確率: [[ 0.5  0.5  0.5  0.5  0.5]]\n",
      "計算されたコスト [[-0.69314718]]\n",
      "最急降下法後のTheta: [[ -0.1        -12.00921659 -11.26284221]]\n",
      "ただし最急降下法は凸関数で作用するが、シグモイド関数は非凸関数である!!!!\n",
      "そこで実装するのは別のアルゴリズム!!!\n",
      "\n"
     ]
    },
    {
     "ename": "ValueError",
     "evalue": "shapes (3,100) and (3,100) not aligned: 100 (dim 1) != 3 (dim 0)",
     "output_type": "error",
     "traceback": [
      "\u001b[0;31m---------------------------------------------------------------------------\u001b[0m",
      "\u001b[0;31mValueError\u001b[0m                                Traceback (most recent call last)",
      "\u001b[0;32m<ipython-input-15-f9c7f2ec1bd6>\u001b[0m in \u001b[0;36m<module>\u001b[0;34m()\u001b[0m\n\u001b[1;32m     34\u001b[0m \u001b[0;34m\u001b[0m\u001b[0m\n\u001b[1;32m     35\u001b[0m \u001b[0;31m# http://qiita.com/incheon/items/44896c8e1dd0bcbacdd5\u001b[0m\u001b[0;34m\u001b[0m\u001b[0;34m\u001b[0m\u001b[0m\n\u001b[0;32m---> 36\u001b[0;31m \u001b[0mres\u001b[0m \u001b[0;34m=\u001b[0m \u001b[0mscipy\u001b[0m\u001b[0;34m.\u001b[0m\u001b[0moptimize\u001b[0m\u001b[0;34m.\u001b[0m\u001b[0mminimize\u001b[0m\u001b[0;34m(\u001b[0m\u001b[0mCostFunction\u001b[0m\u001b[0;34m,\u001b[0m \u001b[0mtheta\u001b[0m \u001b[0;34m,\u001b[0m \u001b[0margs\u001b[0m\u001b[0;34m=\u001b[0m\u001b[0;34m(\u001b[0m\u001b[0mtrainX\u001b[0m\u001b[0;34m,\u001b[0m\u001b[0mtrainY\u001b[0m\u001b[0;34m)\u001b[0m \u001b[0;34m,\u001b[0m\u001b[0mmethod\u001b[0m\u001b[0;34m=\u001b[0m\u001b[0;32mNone\u001b[0m\u001b[0;34m,\u001b[0m \u001b[0mjac\u001b[0m\u001b[0;34m=\u001b[0m\u001b[0mGradientDescent\u001b[0m\u001b[0;34m,\u001b[0m \u001b[0moptions\u001b[0m\u001b[0;34m=\u001b[0m\u001b[0;34m{\u001b[0m\u001b[0;34m'maxiter'\u001b[0m\u001b[0;34m:\u001b[0m\u001b[0;36m400\u001b[0m\u001b[0;34m}\u001b[0m\u001b[0;34m)\u001b[0m\u001b[0;34m\u001b[0m\u001b[0m\n\u001b[0m\u001b[1;32m     37\u001b[0m \u001b[0mprint\u001b[0m\u001b[0;34m(\u001b[0m\u001b[0mres\u001b[0m\u001b[0;34m)\u001b[0m\u001b[0;34m\u001b[0m\u001b[0m\n",
      "\u001b[0;32m/Users/Shogo/.pyenv/versions/anaconda3-2.1.0/lib/python3.4/site-packages/scipy/optimize/_minimize.py\u001b[0m in \u001b[0;36mminimize\u001b[0;34m(fun, x0, args, method, jac, hess, hessp, bounds, constraints, tol, callback, options)\u001b[0m\n\u001b[1;32m    439\u001b[0m         \u001b[0;32mreturn\u001b[0m \u001b[0m_minimize_cg\u001b[0m\u001b[0;34m(\u001b[0m\u001b[0mfun\u001b[0m\u001b[0;34m,\u001b[0m \u001b[0mx0\u001b[0m\u001b[0;34m,\u001b[0m \u001b[0margs\u001b[0m\u001b[0;34m,\u001b[0m \u001b[0mjac\u001b[0m\u001b[0;34m,\u001b[0m \u001b[0mcallback\u001b[0m\u001b[0;34m,\u001b[0m \u001b[0;34m**\u001b[0m\u001b[0moptions\u001b[0m\u001b[0;34m)\u001b[0m\u001b[0;34m\u001b[0m\u001b[0m\n\u001b[1;32m    440\u001b[0m     \u001b[0;32melif\u001b[0m \u001b[0mmeth\u001b[0m \u001b[0;34m==\u001b[0m \u001b[0;34m'bfgs'\u001b[0m\u001b[0;34m:\u001b[0m\u001b[0;34m\u001b[0m\u001b[0m\n\u001b[0;32m--> 441\u001b[0;31m         \u001b[0;32mreturn\u001b[0m \u001b[0m_minimize_bfgs\u001b[0m\u001b[0;34m(\u001b[0m\u001b[0mfun\u001b[0m\u001b[0;34m,\u001b[0m \u001b[0mx0\u001b[0m\u001b[0;34m,\u001b[0m \u001b[0margs\u001b[0m\u001b[0;34m,\u001b[0m \u001b[0mjac\u001b[0m\u001b[0;34m,\u001b[0m \u001b[0mcallback\u001b[0m\u001b[0;34m,\u001b[0m \u001b[0;34m**\u001b[0m\u001b[0moptions\u001b[0m\u001b[0;34m)\u001b[0m\u001b[0;34m\u001b[0m\u001b[0m\n\u001b[0m\u001b[1;32m    442\u001b[0m     \u001b[0;32melif\u001b[0m \u001b[0mmeth\u001b[0m \u001b[0;34m==\u001b[0m \u001b[0;34m'newton-cg'\u001b[0m\u001b[0;34m:\u001b[0m\u001b[0;34m\u001b[0m\u001b[0m\n\u001b[1;32m    443\u001b[0m         return _minimize_newtoncg(fun, x0, args, jac, hess, hessp, callback,\n",
      "\u001b[0;32m/Users/Shogo/.pyenv/versions/anaconda3-2.1.0/lib/python3.4/site-packages/scipy/optimize/optimize.py\u001b[0m in \u001b[0;36m_minimize_bfgs\u001b[0;34m(fun, x0, args, jac, callback, gtol, norm, eps, maxiter, disp, return_all, **unknown_options)\u001b[0m\n\u001b[1;32m    863\u001b[0m             \u001b[0malpha_k\u001b[0m\u001b[0;34m,\u001b[0m \u001b[0mfc\u001b[0m\u001b[0;34m,\u001b[0m \u001b[0mgc\u001b[0m\u001b[0;34m,\u001b[0m \u001b[0mold_fval\u001b[0m\u001b[0;34m,\u001b[0m \u001b[0mold_old_fval\u001b[0m\u001b[0;34m,\u001b[0m \u001b[0mgfkp1\u001b[0m \u001b[0;34m=\u001b[0m\u001b[0;31m \u001b[0m\u001b[0;31m\\\u001b[0m\u001b[0;34m\u001b[0m\u001b[0m\n\u001b[1;32m    864\u001b[0m                      _line_search_wolfe12(f, myfprime, xk, pk, gfk,\n\u001b[0;32m--> 865\u001b[0;31m                                           old_fval, old_old_fval)\n\u001b[0m\u001b[1;32m    866\u001b[0m         \u001b[0;32mexcept\u001b[0m \u001b[0m_LineSearchError\u001b[0m\u001b[0;34m:\u001b[0m\u001b[0;34m\u001b[0m\u001b[0m\n\u001b[1;32m    867\u001b[0m             \u001b[0;31m# Line search failed to find a better solution.\u001b[0m\u001b[0;34m\u001b[0m\u001b[0;34m\u001b[0m\u001b[0m\n",
      "\u001b[0;32m/Users/Shogo/.pyenv/versions/anaconda3-2.1.0/lib/python3.4/site-packages/scipy/optimize/optimize.py\u001b[0m in \u001b[0;36m_line_search_wolfe12\u001b[0;34m(f, fprime, xk, pk, gfk, old_fval, old_old_fval, **kwargs)\u001b[0m\n\u001b[1;32m    697\u001b[0m     ret = line_search_wolfe1(f, fprime, xk, pk, gfk,\n\u001b[1;32m    698\u001b[0m                              \u001b[0mold_fval\u001b[0m\u001b[0;34m,\u001b[0m \u001b[0mold_old_fval\u001b[0m\u001b[0;34m,\u001b[0m\u001b[0;34m\u001b[0m\u001b[0m\n\u001b[0;32m--> 699\u001b[0;31m                              **kwargs)\n\u001b[0m\u001b[1;32m    700\u001b[0m \u001b[0;34m\u001b[0m\u001b[0m\n\u001b[1;32m    701\u001b[0m     \u001b[0;32mif\u001b[0m \u001b[0mret\u001b[0m\u001b[0;34m[\u001b[0m\u001b[0;36m0\u001b[0m\u001b[0;34m]\u001b[0m \u001b[0;32mis\u001b[0m \u001b[0;32mNone\u001b[0m\u001b[0;34m:\u001b[0m\u001b[0;34m\u001b[0m\u001b[0m\n",
      "\u001b[0;32m/Users/Shogo/.pyenv/versions/anaconda3-2.1.0/lib/python3.4/site-packages/scipy/optimize/linesearch.py\u001b[0m in \u001b[0;36mline_search_wolfe1\u001b[0;34m(f, fprime, xk, pk, gfk, old_fval, old_old_fval, args, c1, c2, amax, amin, xtol)\u001b[0m\n\u001b[1;32m     95\u001b[0m         \u001b[0;32mreturn\u001b[0m \u001b[0mnp\u001b[0m\u001b[0;34m.\u001b[0m\u001b[0mdot\u001b[0m\u001b[0;34m(\u001b[0m\u001b[0mgval\u001b[0m\u001b[0;34m[\u001b[0m\u001b[0;36m0\u001b[0m\u001b[0;34m]\u001b[0m\u001b[0;34m,\u001b[0m \u001b[0mpk\u001b[0m\u001b[0;34m)\u001b[0m\u001b[0;34m\u001b[0m\u001b[0m\n\u001b[1;32m     96\u001b[0m \u001b[0;34m\u001b[0m\u001b[0m\n\u001b[0;32m---> 97\u001b[0;31m     \u001b[0mderphi0\u001b[0m \u001b[0;34m=\u001b[0m \u001b[0mnp\u001b[0m\u001b[0;34m.\u001b[0m\u001b[0mdot\u001b[0m\u001b[0;34m(\u001b[0m\u001b[0mgfk\u001b[0m\u001b[0;34m,\u001b[0m \u001b[0mpk\u001b[0m\u001b[0;34m)\u001b[0m\u001b[0;34m\u001b[0m\u001b[0m\n\u001b[0m\u001b[1;32m     98\u001b[0m \u001b[0;34m\u001b[0m\u001b[0m\n\u001b[1;32m     99\u001b[0m     stp, fval, old_fval = scalar_search_wolfe1(\n",
      "\u001b[0;31mValueError\u001b[0m: shapes (3,100) and (3,100) not aligned: 100 (dim 1) != 3 (dim 0)"
     ]
    }
   ],
   "source": [
    "\n",
    "#Thetaの初期設定(モデル配列作成＆行列化)\n",
    "theta = np.array([0,0,0.])\n",
    "theta = theta.reshape(len(theta),1)\n",
    "\n",
    "#TrainXの初期設定(トレーニングセットXに切片項追加＆Exam1とExam2の合体)\n",
    "trainX = np.c_[np.ones(len(Exam1))]\n",
    "trainX = np.hstack([trainX,Exam1,Exam2]) \n",
    "\n",
    "#TrainYの初期設定\n",
    "trainY = np.c_[Label]\n",
    "\n",
    "\n",
    "#決定境界の設定\n",
    "bounder = 0.5\n",
    "\n",
    "print(\"TrainX : \\n\" + str(trainX[:5,:]) + \"\\n X-Dimension: \" + str(trainX.shape))\n",
    "print(\"TrainY : \" + str(trainY[:5,:].T) + \"\\n Y-Dimension: \" + str(trainY.shape))\n",
    "print(\"決定境界 : \" ,bounder)\n",
    "print(\"初期Theta\" , theta.T)\n",
    "print(\"仮説から出力される確率:\" , Hypothesis(theta,trainX)[:5].T)\n",
    "print(\"計算されたコスト\" ,CostFunction(theta,trainX,trainY))\n",
    "print(\"最急降下法後のTheta:\" ,GradientDescent(theta,trainX,trainY).T[:5])\n",
    "print(\"ただし最急降下法は凸関数で作用するが、シグモイド関数は非凸関数である!!!!\\nそこで実装するのは別のアルゴリズム!!!\\n\")\n",
    "\n",
    "'''\n",
    "最急降下法以外のアルゴリズムでコスト関数を最小化する!\n",
    "第一引数にはJ(theta)であるコスト関数を渡す\n",
    "第二引数には初期値Theta\n",
    "args引数にはトレーニングセット指定 \n",
    "method引数にはアルゴリズム指定(指定しなければBFGSなど) \n",
    "jac引数は偏微分した仮説\n",
    "'''\n",
    "\n",
    "# http://qiita.com/incheon/items/44896c8e1dd0bcbacdd5 \n",
    "res = scipy.optimize.minimize(CostFunction, theta , args=(trainX,trainY) ,method=None, jac=GradientDescent, options={'maxiter':400})\n",
    "print(res)"
   ]
  },
  {
   "cell_type": "markdown",
   "metadata": {
    "collapsed": false
   },
   "source": [
    "## Scikit-learnで実装してみる．"
   ]
  },
  {
   "cell_type": "code",
   "execution_count": 57,
   "metadata": {
    "collapsed": false
   },
   "outputs": [
    {
     "name": "stdout",
     "output_type": "stream",
     "text": [
      "InputData_Dimension : (100, 3)\n",
      "InputData5行表示 [[ 30.28671077  43.89499752   0.        ]\n",
      " [ 35.84740877  72.90219803   0.        ]\n",
      " [ 60.18259939  86.3085521    1.        ]\n",
      " [ 79.03273605  75.34437644   1.        ]]\n"
     ]
    },
    {
     "name": "stderr",
     "output_type": "stream",
     "text": [
      "/Users/Shogo/.pyenv/versions/anaconda3-2.1.0/lib/python3.4/site-packages/sklearn/utils/validation.py:449: DataConversionWarning: A column-vector y was passed when a 1d array was expected. Please change the shape of y to (n_samples, ), for example using ravel().\n",
      "  y = column_or_1d(y, warn=True)\n"
     ]
    },
    {
     "data": {
      "text/plain": [
       "<matplotlib.text.Text at 0x1116aeb38>"
      ]
     },
     "execution_count": 57,
     "metadata": {},
     "output_type": "execute_result"
    },
    {
     "data": {
      "image/png": "[encoded data removed]",
      "text/plain": [
       "<matplotlib.figure.Figure at 0x11167d160>"
      ]
     },
     "metadata": {},
     "output_type": "display_data"
    }
   ],
   "source": [
    "import numpy as np\n",
    "from sklearn.cross_validation import train_test_split\n",
    "from sklearn.preprocessing import StandardScaler\n",
    "\n",
    "\n",
    "Exam1 , Exam2 , Label , data = data_input()\n",
    "\n",
    "X = np.vstack([Exam1,Exam2]).T\n",
    "y = np.c_[Label]\n",
    "\n",
    "\n",
    "# データセットを訓練データとテストデータに分割, 今はtest_size=0.3なので訓練データ7割テストデータ3割にしている\n",
    "X_train, X_test, y_train, y_test = train_test_split(X, y, test_size=0.3)\n",
    "\n",
    "# Exam1とExam2を可視化する\n",
    "neg = data[:,2] == 0\n",
    "pos = data[:,2] == 1\n",
    "plt.scatter(data[pos][:,0], data[pos][:,1], marker='+', c='k', s=60, linewidth=2) #data[pos]は条件指定でTrueを返す。\n",
    "plt.scatter(data[neg][:,0], data[neg][:,1], marker='*',c='y', s=60)\n",
    "\n",
    "\n",
    "'''\n",
    "sc = StandardScaler()\n",
    "sc.fit(X_train)\n",
    "# 平均0, 分散1に標準化\n",
    "X_train_std = sc.transform(X_train)\n",
    "X_test_std = sc.transform(X_test)\n",
    "X_combined_std = np.vstack((X_train_std, X_test_std)) # 縦に連結\n",
    "y_combined = np.vstack((y_train, y_test)) # 横に連結\n",
    "plt.scatter(X_combined_std[0:,0],X_combined_std[0:,1],marker='*')\n",
    "'''\n",
    "\n",
    "\n",
    "# ロジスティック回帰\n",
    "from sklearn.linear_model import LogisticRegression\n",
    "\n",
    "lr = LogisticRegression(C=1000.0)\n",
    "lr.fit(X, y) # Rでいうlm(y ~ x) 的なやつ。\n",
    "theta = np.c_[lr.intercept_,lr.coef_] #切片lr.intercept(theta0)と重みlr.coef_(theta1,theta2)をが連結したうえで計算する.\n",
    "\n",
    "\n",
    "#h(theta) = theta0 * 1 + theta1 * Exam1 + theta2 * Exam2\n",
    "# 0 = theta0 ~ の直線を引いてみる.\n",
    "#ここでy軸はTheta2であるから、移項をして Exam2 = の式に変換する!!!!\n",
    "\n",
    "xx = np.arange(30,101)\n",
    "yy_Exam2 = (-theta[0][0] - theta[0][1] * xx) / theta[0][2]\n",
    "\n",
    "plt.plot(xx,yy_Exam2, label = 'Linear regression (Gradient descent)')\n",
    "\n",
    "plt.xlabel('Exam1')\n",
    "plt.ylabel('Exam2')\n",
    "\n"
   ]
  },
  {
   "cell_type": "code",
   "execution_count": null,
   "metadata": {
    "collapsed": false
   },
   "outputs": [],
   "source": []
  },
  {
   "cell_type": "code",
   "execution_count": null,
   "metadata": {
    "collapsed": false
   },
   "outputs": [],
   "source": []
  },
  {
   "cell_type": "code",
   "execution_count": null,
   "metadata": {
    "collapsed": false
   },
   "outputs": [],
   "source": []
  },
  {
   "cell_type": "code",
   "execution_count": null,
   "metadata": {
    "collapsed": false
   },
   "outputs": [],
   "source": []
  },
  {
   "cell_type": "code",
   "execution_count": null,
   "metadata": {
    "collapsed": true
   },
   "outputs": [],
   "source": []
  }
 ],
 "metadata": {
  "kernelspec": {
   "display_name": "Python 3",
   "language": "python",
   "name": "python3"
  },
  "language_info": {
   "codemirror_mode": {
    "name": "ipython",
    "version": 3
   },
   "file_extension": ".py",
   "mimetype": "text/x-python",
   "name": "python",
   "nbconvert_exporter": "python",
   "pygments_lexer": "ipython3",
   "version": "3.4.4"
  }
 },
 "nbformat": 4,
 "nbformat_minor": 0
}
