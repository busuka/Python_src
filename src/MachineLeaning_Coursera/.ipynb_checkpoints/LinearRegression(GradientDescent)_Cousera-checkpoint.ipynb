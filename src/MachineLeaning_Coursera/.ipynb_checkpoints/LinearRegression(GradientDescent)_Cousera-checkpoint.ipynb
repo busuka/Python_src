{
 "cells": [
  {
   "cell_type": "markdown",
   "metadata": {},
   "source": [
    "## 前処理"
   ]
  },
  {
   "cell_type": "code",
   "execution_count": 164,
   "metadata": {
    "collapsed": true
   },
   "outputs": [],
   "source": [
    "import os\n",
    "import numpy as np\n",
    "import matplotlib.pyplot as plt\n",
    "import seaborn\n",
    "import scipy\n",
    "%matplotlib inline\n",
    "import scipy as sp"
   ]
  },
  {
   "cell_type": "code",
   "execution_count": 148,
   "metadata": {
    "collapsed": true
   },
   "outputs": [],
   "source": [
    "#データを読み込み、先頭５行だけを表示する!!\n",
    "def data_input1():\n",
    "    data = np.loadtxt(os.path.expanduser('~/Python_src/src/MachineLeaning_Coursera/Cousera/ml_data/mlclass-ex1/ex1data1.txt'),delimiter=',')\n",
    "    X = data[:,0]\n",
    "    Y = data[:,1]\n",
    "    print(\"InputData_Dimension :\" ,data.shape)\n",
    "    print(\"InputData5行表示\" ,data[1:5,:])\n",
    "    return(X,Y,data)"
   ]
  },
  {
   "cell_type": "markdown",
   "metadata": {},
   "source": [
    "## アルゴリズム実装(data1)"
   ]
  },
  {
   "cell_type": "code",
   "execution_count": 149,
   "metadata": {
    "collapsed": false
   },
   "outputs": [
    {
     "name": "stdout",
     "output_type": "stream",
     "text": [
      "InputData_Dimension : (97, 2)\n",
      "InputData5行表示 [[  5.5277   9.1302]\n",
      " [  8.5186  13.662 ]\n",
      " [  7.0032  11.854 ]\n",
      " [  5.8598   6.8233]]\n"
     ]
    },
    {
     "data": {
      "text/plain": [
       "<matplotlib.text.Text at 0x11512e4e0>"
      ]
     },
     "execution_count": 149,
     "metadata": {},
     "output_type": "execute_result"
    },
    {
     "data": {
      "image/png": "[encoded data removed]",
      "text/plain": [
       "<matplotlib.figure.Figure at 0x115e66240>"
      ]
     },
     "metadata": {},
     "output_type": "display_data"
    }
   ],
   "source": [
    "#行列操作をするための前処理\n",
    "trainX ,trainY,data = data_input1()\n",
    "trainX = np.vstack([np.ones(len(trainX)),trainX]).T  #X0の切片項を1列目に挿入する操作!!\n",
    "trainY = trainY.reshape(len(trainY),1) #(2,)を(2,1)の行列に変換する!!\n",
    "theta = np.zeros(trainX.shape[1]) #ゼロベクトルをThetaの初期値として設定する\n",
    "theta = theta.reshape(len(theta),1) #(2,)を(2,1)に変換\n",
    "\n",
    "#最急降下法を実装＆実行\n",
    "theta_history = []\n",
    "cost_history = []\n",
    "\n",
    "\n",
    "for i in range(1000):\n",
    "    theta = GradientDescent(theta,trainX,trainY)\n",
    "    theta_history.append(theta)\n",
    "\n",
    "    cost = CostFunction(theta,trainX,trainY)\n",
    "    cost_history.append(cost)\n",
    "\n",
    "\n",
    "plt.plot(cost_history)\n",
    "plt.xlabel(\"iternation\")\n",
    "plt.ylabel(\"Cost J\")\n",
    "plt.title(\"Decrease Cost with Gradient Descent\")\n",
    "\n"
   ]
  },
  {
   "cell_type": "markdown",
   "metadata": {},
   "source": [
    "### 単回帰の仮説設定"
   ]
  },
  {
   "cell_type": "code",
   "execution_count": 165,
   "metadata": {
    "collapsed": false
   },
   "outputs": [],
   "source": [
    "def hypothesis(theta,x):\n",
    "    return x.dot(theta)"
   ]
  },
  {
   "cell_type": "markdown",
   "metadata": {},
   "source": [
    "### 最急降下法アルゴリズム"
   ]
  },
  {
   "cell_type": "code",
   "execution_count": 173,
   "metadata": {
    "collapsed": true
   },
   "outputs": [],
   "source": [
    "def GradientDescent(theta,x,y):\n",
    "    m = len(x)\n",
    "    alpha = 0.01\n",
    "    h = hypothesis(theta,x) \n",
    "    theta = theta - 1 / m * alpha * (x.T.dot(h-y))\n",
    "    return theta"
   ]
  },
  {
   "cell_type": "markdown",
   "metadata": {},
   "source": [
    "### コスト関数（損失関数)"
   ]
  },
  {
   "cell_type": "code",
   "execution_count": 167,
   "metadata": {
    "collapsed": true
   },
   "outputs": [],
   "source": [
    "def CostFunction(theta,x,y):\n",
    "    m = len(x)\n",
    "    h = hypothesis(theta,x)\n",
    "    j = 1/ 2* m* np.sum((h-y)**2 )\n",
    "    return j"
   ]
  },
  {
   "cell_type": "markdown",
   "metadata": {},
   "source": [
    "## 最適化したThetaを用いて回帰直線を引いてみる"
   ]
  },
  {
   "cell_type": "code",
   "execution_count": 159,
   "metadata": {
    "collapsed": false
   },
   "outputs": [
    {
     "data": {
      "text/plain": [
       "<matplotlib.text.Text at 0x1165aa080>"
      ]
     },
     "execution_count": 159,
     "metadata": {},
     "output_type": "execute_result"
    },
    {
     "data": {
      "image/png": "[encoded data removed]",
      "text/plain": [
       "<matplotlib.figure.Figure at 0x116461a90>"
      ]
     },
     "metadata": {},
     "output_type": "display_data"
    }
   ],
   "source": [
    "xx = np.arange(5,23)\n",
    "yy = theta[0]+theta[1]*xx\n",
    "\n",
    "# Compute theta with Gradient Descent\n",
    "plt.scatter(trainX[:,1], trainY, s=30, c='r', marker='x', linewidths=2)\n",
    "plt.plot(xx,yy, label = 'Linear regression (Gradient descent)')\n",
    "plt.title(\"Scatter Plot\")"
   ]
  },
  {
   "cell_type": "markdown",
   "metadata": {},
   "source": [
    "##  アルゴリズム実装(Data2) : 重回帰で試してみる.\n",
    "### 前処理 Part２"
   ]
  },
  {
   "cell_type": "code",
   "execution_count": 168,
   "metadata": {
    "collapsed": false
   },
   "outputs": [],
   "source": [
    "#データを読み込み、先頭５行だけを表示する!!\n",
    "def data_input2():\n",
    "    data = np.loadtxt(os.path.expanduser('~/Python_src/src/MachineLeaning_Coursera/Cousera/ml_data/mlclass-ex1/ex1data2.txt'),delimiter=',')\n",
    "    X0 = data[:,0]\n",
    "    X1 = data[:,1]\n",
    "    Y = data[:,2]\n",
    "    print(\"InputData_Dimension :\" ,data.shape)\n",
    "    print(\"InputData5行表示\" ,data[1:5,:])\n",
    "    return(X0,X1,Y,data)"
   ]
  },
  {
   "cell_type": "code",
   "execution_count": 169,
   "metadata": {
    "collapsed": false
   },
   "outputs": [
    {
     "name": "stdout",
     "output_type": "stream",
     "text": [
      "InputData_Dimension : (47, 3)\n",
      "InputData5行表示 [[  1.60000000e+03   3.00000000e+00   3.29900000e+05]\n",
      " [  2.40000000e+03   3.00000000e+00   3.69000000e+05]\n",
      " [  1.41600000e+03   2.00000000e+00   2.32000000e+05]\n",
      " [  3.00000000e+03   4.00000000e+00   5.39900000e+05]]\n"
     ]
    },
    {
     "data": {
      "text/plain": [
       "<matplotlib.collections.PathCollection at 0x1169cb5f8>"
      ]
     },
     "execution_count": 169,
     "metadata": {},
     "output_type": "execute_result"
    },
    {
     "data": {
      "image/png": "[encoded data removed]",
      "text/plain": [
       "<matplotlib.figure.Figure at 0x11656eda0>"
      ]
     },
     "metadata": {},
     "output_type": "display_data"
    }
   ],
   "source": [
    "#行列操作をするための前処理\n",
    "trainX0,trainX1  ,trainY,data = data_input2()\n",
    "trainX = np.c_[trainX0,trainX1]\n",
    "trainX = np.c_[np.ones(len(trainX)), trainX]  #X0の切片項を1列目に挿入する操作!!\n",
    "\n",
    "trainY = trainY.reshape(len(trainY),1) #(2,)を(2,1)の行列に変換する!!\n",
    "\n",
    "theta = np.zeros(trainX.shape[1]) #ゼロベクトルをThetaの初期値として設定する\n",
    "theta = theta.reshape(len(theta),1) #(2,)を(2,1)に変換\n",
    "\n",
    "plt.scatter(trainX[:,1],trainY)"
   ]
  },
  {
   "cell_type": "code",
   "execution_count": 174,
   "metadata": {
    "collapsed": false
   },
   "outputs": [
    {
     "data": {
      "text/plain": [
       "<matplotlib.text.Text at 0x116a1ca90>"
      ]
     },
     "execution_count": 174,
     "metadata": {},
     "output_type": "execute_result"
    },
    {
     "data": {
      "image/png": "[encoded data removed]",
      "text/plain": [
       "<matplotlib.figure.Figure at 0x116acbd68>"
      ]
     },
     "metadata": {},
     "output_type": "display_data"
    }
   ],
   "source": [
    "#最急降下法を実装＆実行\n",
    "theta_history = []\n",
    "cost_history = []\n",
    "\n",
    "for i in range(5000):\n",
    "    theta = GradientDescent(theta,trainX,trainY )\n",
    "    theta_history.append(theta)\n",
    "\n",
    "    cost = CostFunction(theta,trainX,trainY)\n",
    "    cost_history.append(cost)\n",
    "\n",
    "\n",
    "plt.plot(cost_history)\n",
    "plt.xlabel(\"iternation\")\n",
    "plt.ylabel(\"Cost J\")\n",
    "plt.title(\"Decrease Cost with Gradient Descent\")\n",
    "\n"
   ]
  },
  {
   "cell_type": "markdown",
   "metadata": {
    "collapsed": true
   },
   "source": [
    "## 過学習と正則化を試してみる with ex1data2"
   ]
  },
  {
   "cell_type": "code",
   "execution_count": 178,
   "metadata": {
    "collapsed": false
   },
   "outputs": [
    {
     "name": "stdout",
     "output_type": "stream",
     "text": [
      "InputData_Dimension : (47, 3)\n",
      "InputData5行表示 [[  1.60000000e+03   3.00000000e+00   3.29900000e+05]\n",
      " [  2.40000000e+03   3.00000000e+00   3.69000000e+05]\n",
      " [  1.41600000e+03   2.00000000e+00   2.32000000e+05]\n",
      " [  3.00000000e+03   4.00000000e+00   5.39900000e+05]]\n"
     ]
    }
   ],
   "source": [
    "#行列操作をするための前処理\n",
    "trainX0,trainX1  ,trainY,data = data_input2()\n",
    "trainX = np.c_[trainX0,trainX1]\n",
    "\n",
    "trainY = trainY.reshape(len(trainY),1) #(2,)を(2,1)の行列に変換する!!\n",
    "theta = np.zeros(trainX.shape[1]) #ゼロベクトルをThetaの初期値として設定する\n",
    "theta = theta.reshape(len(theta),1) #(2,)を(2,1)に変換\n",
    "\n",
    "#plt.scatter(trainX[:,1],trainY)"
   ]
  },
  {
   "cell_type": "code",
   "execution_count": 183,
   "metadata": {
    "collapsed": false
   },
   "outputs": [
    {
     "ename": "TypeError",
     "evalue": "expected 1D vector for x",
     "output_type": "error",
     "traceback": [
      "\u001b[0;31m---------------------------------------------------------------------------\u001b[0m",
      "\u001b[0;31mTypeError\u001b[0m                                 Traceback (most recent call last)",
      "\u001b[0;32m<ipython-input-183-3973fccda32e>\u001b[0m in \u001b[0;36m<module>\u001b[0;34m()\u001b[0m\n\u001b[1;32m      1\u001b[0m \u001b[0;31m#1次式を得る(GradientDescentで得たthetaとほぼ同じ値になるはず)\u001b[0m\u001b[0;34m\u001b[0m\u001b[0;34m\u001b[0m\u001b[0m\n\u001b[0;32m----> 2\u001b[0;31m \u001b[0mf1p\u001b[0m\u001b[0;34m=\u001b[0m \u001b[0msp\u001b[0m\u001b[0;34m.\u001b[0m\u001b[0mpolyfit\u001b[0m\u001b[0;34m(\u001b[0m\u001b[0mtrainX\u001b[0m\u001b[0;34m,\u001b[0m\u001b[0mtrainY\u001b[0m\u001b[0;34m,\u001b[0m\u001b[0;36m1\u001b[0m\u001b[0;34m)\u001b[0m\u001b[0;34m\u001b[0m\u001b[0m\n\u001b[0m\u001b[1;32m      3\u001b[0m \u001b[0mf1\u001b[0m \u001b[0;34m=\u001b[0m \u001b[0msp\u001b[0m\u001b[0;34m.\u001b[0m\u001b[0mpoly1d\u001b[0m\u001b[0;34m(\u001b[0m\u001b[0mfp1\u001b[0m\u001b[0;34m)\u001b[0m\u001b[0;34m\u001b[0m\u001b[0m\n\u001b[1;32m      4\u001b[0m \u001b[0;34m\u001b[0m\u001b[0m\n\u001b[1;32m      5\u001b[0m \u001b[0mf2p\u001b[0m \u001b[0;34m=\u001b[0m \u001b[0msp\u001b[0m\u001b[0;34m.\u001b[0m\u001b[0mpolyfit\u001b[0m\u001b[0;34m(\u001b[0m\u001b[0mx\u001b[0m\u001b[0;34m,\u001b[0m\u001b[0my\u001b[0m\u001b[0;34m,\u001b[0m\u001b[0;36m2\u001b[0m\u001b[0;34m)\u001b[0m\u001b[0;34m\u001b[0m\u001b[0m\n",
      "\u001b[0;32m/Users/Shogo/.pyenv/versions/anaconda3-2.1.0/lib/python3.4/site-packages/numpy/lib/polynomial.py\u001b[0m in \u001b[0;36mpolyfit\u001b[0;34m(x, y, deg, rcond, full, w, cov)\u001b[0m\n\u001b[1;32m    548\u001b[0m         \u001b[0;32mraise\u001b[0m \u001b[0mValueError\u001b[0m\u001b[0;34m(\u001b[0m\u001b[0;34m\"expected deg >= 0\"\u001b[0m\u001b[0;34m)\u001b[0m\u001b[0;34m\u001b[0m\u001b[0m\n\u001b[1;32m    549\u001b[0m     \u001b[0;32mif\u001b[0m \u001b[0mx\u001b[0m\u001b[0;34m.\u001b[0m\u001b[0mndim\u001b[0m \u001b[0;34m!=\u001b[0m \u001b[0;36m1\u001b[0m\u001b[0;34m:\u001b[0m\u001b[0;34m\u001b[0m\u001b[0m\n\u001b[0;32m--> 550\u001b[0;31m         \u001b[0;32mraise\u001b[0m \u001b[0mTypeError\u001b[0m\u001b[0;34m(\u001b[0m\u001b[0;34m\"expected 1D vector for x\"\u001b[0m\u001b[0;34m)\u001b[0m\u001b[0;34m\u001b[0m\u001b[0m\n\u001b[0m\u001b[1;32m    551\u001b[0m     \u001b[0;32mif\u001b[0m \u001b[0mx\u001b[0m\u001b[0;34m.\u001b[0m\u001b[0msize\u001b[0m \u001b[0;34m==\u001b[0m \u001b[0;36m0\u001b[0m\u001b[0;34m:\u001b[0m\u001b[0;34m\u001b[0m\u001b[0m\n\u001b[1;32m    552\u001b[0m         \u001b[0;32mraise\u001b[0m \u001b[0mTypeError\u001b[0m\u001b[0;34m(\u001b[0m\u001b[0;34m\"expected non-empty vector for x\"\u001b[0m\u001b[0;34m)\u001b[0m\u001b[0;34m\u001b[0m\u001b[0m\n",
      "\u001b[0;31mTypeError\u001b[0m: expected 1D vector for x"
     ]
    }
   ],
   "source": [
    "#1次式を得る(GradientDescentで得たthetaとほぼ同じ値になるはず)\n",
    "f1p= sp.polyfit(trainX,trainY,1)\n",
    "f1 = sp.poly1d(fp1)\n",
    "\n",
    "f2p = sp.polyfit(x,y,2)\n",
    "f2 = sp.poly1d(f2p)\n",
    "print(\"Model Parameters :  %s\" % f2p)\n",
    "\n"
   ]
  },
  {
   "cell_type": "code",
   "execution_count": null,
   "metadata": {
    "collapsed": false
   },
   "outputs": [],
   "source": []
  },
  {
   "cell_type": "code",
   "execution_count": null,
   "metadata": {
    "collapsed": false
   },
   "outputs": [],
   "source": []
  },
  {
   "cell_type": "code",
   "execution_count": null,
   "metadata": {
    "collapsed": true
   },
   "outputs": [],
   "source": []
  }
 ],
 "metadata": {
  "kernelspec": {
   "display_name": "Python 3",
   "language": "python",
   "name": "python3"
  },
  "language_info": {
   "codemirror_mode": {
    "name": "ipython",
    "version": 3
   },
   "file_extension": ".py",
   "mimetype": "text/x-python",
   "name": "python",
   "nbconvert_exporter": "python",
   "pygments_lexer": "ipython3",
   "version": "3.4.4"
  }
 },
 "nbformat": 4,
 "nbformat_minor": 0
}
